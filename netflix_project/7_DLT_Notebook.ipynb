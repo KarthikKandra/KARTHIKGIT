{
 "cells": [
  {
   "cell_type": "markdown",
   "metadata": {
    "application/vnd.databricks.v1+cell": {
     "cellMetadata": {},
     "inputWidgets": {},
     "nuid": "e53595e7-0404-4ff7-a18c-f441fab64567",
     "showTitle": false,
     "tableResultSettingsMap": {},
     "title": ""
    }
   },
   "source": [
    "DLT Notebook - GOLD LAYER\n",
    "\n"
   ]
  },
  {
   "cell_type": "code",
   "execution_count": 0,
   "metadata": {
    "application/vnd.databricks.v1+cell": {
     "cellMetadata": {
      "byteLimit": 2048000,
      "rowLimit": 10000
     },
     "inputWidgets": {},
     "nuid": "6a113b53-0c39-4c18-9f21-a13c82dabe0a",
     "showTitle": false,
     "tableResultSettingsMap": {},
     "title": ""
    }
   },
   "outputs": [],
   "source": [
    "looktables_rules = {\n",
    "    \"rule1\" : \"show_id is NOT NULL\",\n",
    "}"
   ]
  },
  {
   "cell_type": "code",
   "execution_count": 0,
   "metadata": {
    "application/vnd.databricks.v1+cell": {
     "cellMetadata": {},
     "inputWidgets": {},
     "nuid": "03eb9c7c-23ca-4078-bb81-f70dc45bef5d",
     "showTitle": false,
     "tableResultSettingsMap": {},
     "title": ""
    }
   },
   "outputs": [],
   "source": [
    "@dlt.table(\n",
    "    name = \"gold_netflixdirectors\"\n",
    ")\n",
    "\n",
    "@dlt.expect_all_or_drop(looktables_rules)\n",
    "def myfunc(): \n",
    "    df = spark.readStream.format(\"delta\").load(\"abfss://silver@netflixprojectdlkart.dfs.core.windows.net/netflix_directors\")\n",
    "    return df "
   ]
  },
  {
   "cell_type": "code",
   "execution_count": 0,
   "metadata": {
    "application/vnd.databricks.v1+cell": {
     "cellMetadata": {},
     "inputWidgets": {},
     "nuid": "9afef9ae-de55-4a98-88ad-f1c880612a17",
     "showTitle": false,
     "tableResultSettingsMap": {},
     "title": ""
    }
   },
   "outputs": [],
   "source": [
    "@dlt.table(\n",
    "    name = \"gold_netflixcast\"\n",
    ")\n",
    "\n",
    "@dlt.expect_all_or_drop(looktables_rules)\n",
    "def myfunc(): \n",
    "    df = spark.readStream.format(\"delta\").load(\"abfss://silver@netflixprojectdlkart.dfs.core.windows.net/netflix_cast\")\n",
    "    return df "
   ]
  },
  {
   "cell_type": "code",
   "execution_count": 0,
   "metadata": {
    "application/vnd.databricks.v1+cell": {
     "cellMetadata": {},
     "inputWidgets": {},
     "nuid": "bc2d4a8a-1fcf-4f66-ac84-21bf84241ed1",
     "showTitle": false,
     "tableResultSettingsMap": {},
     "title": ""
    }
   },
   "outputs": [],
   "source": [
    "@dlt.table(\n",
    "    name = \"gold_netflixcountries\"\n",
    ")\n",
    "\n",
    "@dlt.expect_all_or_drop(looktables_rules)\n",
    "def myfunc(): \n",
    "    df = spark.readStream.format(\"delta\").load(\"abfss://silver@netflixprojectdlkart.dfs.core.windows.net/netflix_countries\")\n",
    "    return df "
   ]
  },
  {
   "cell_type": "code",
   "execution_count": 0,
   "metadata": {
    "application/vnd.databricks.v1+cell": {
     "cellMetadata": {},
     "inputWidgets": {},
     "nuid": "de3f1e2c-9ea8-4202-8790-21439722dcb0",
     "showTitle": false,
     "tableResultSettingsMap": {},
     "title": ""
    }
   },
   "outputs": [],
   "source": [
    "@dlt.table(\n",
    "    name = \"gold_netflixcategories\"\n",
    ")\n",
    "\n",
    "@dlt.expect_all_or_drop(looktables_rules)\n",
    "def myfunc(): \n",
    "    df = spark.readStream.format(\"delta\").load(\"abfss://silver@netflixprojectdlkart.dfs.core.windows.net/netflix_categories\")\n",
    "    return df "
   ]
  },
  {
   "cell_type": "code",
   "execution_count": 0,
   "metadata": {
    "application/vnd.databricks.v1+cell": {
     "cellMetadata": {},
     "inputWidgets": {},
     "nuid": "3209ce65-9516-49e3-ae8b-94f800bddcd3",
     "showTitle": false,
     "tableResultSettingsMap": {},
     "title": ""
    }
   },
   "outputs": [],
   "source": [
    "@dlt.table \n",
    "\n",
    "def gold_stg_netflixtitles():\n",
    "\n",
    "    df = spark.readStream.format(\"delta\").load(\"abfss://silver@netflixprojectdlkart.dfs.core.windows.net/netflix_titles\")\n",
    "    return df"
   ]
  },
  {
   "cell_type": "code",
   "execution_count": 0,
   "metadata": {
    "application/vnd.databricks.v1+cell": {
     "cellMetadata": {},
     "inputWidgets": {},
     "nuid": "6a8c131f-52e9-4da0-b6ee-da0420ec538f",
     "showTitle": false,
     "tableResultSettingsMap": {},
     "title": ""
    }
   },
   "outputs": [],
   "source": [
    "from pyspark.sql.functions import *"
   ]
  },
  {
   "cell_type": "code",
   "execution_count": 0,
   "metadata": {
    "application/vnd.databricks.v1+cell": {
     "cellMetadata": {},
     "inputWidgets": {},
     "nuid": "ecc2d770-e969-424c-9b9e-630cce9f6f4f",
     "showTitle": false,
     "tableResultSettingsMap": {},
     "title": ""
    }
   },
   "outputs": [],
   "source": [
    "@dlt.view\n",
    "\n",
    "def gold_trns_netflixtitles():\n",
    "    df = spark.readStream.table(\"LIVE.gold_stg_netflixtitles\")\n",
    "    df = df.withColumn(\"newflag\",lit(1))\n",
    "    return df "
   ]
  },
  {
   "cell_type": "code",
   "execution_count": 0,
   "metadata": {
    "application/vnd.databricks.v1+cell": {
     "cellMetadata": {},
     "inputWidgets": {},
     "nuid": "3e777766-bbb9-4335-839e-9a29a9357445",
     "showTitle": false,
     "tableResultSettingsMap": {},
     "title": ""
    }
   },
   "outputs": [],
   "source": [
    "masterdata_rules = {\n",
    "    \"rule1\" : \"newflag is NOT NULL\",\n",
    "    \"rule2\" : \"show_id is NOT NULL\"\n",
    "}"
   ]
  },
  {
   "cell_type": "code",
   "execution_count": 0,
   "metadata": {
    "application/vnd.databricks.v1+cell": {
     "cellMetadata": {},
     "inputWidgets": {},
     "nuid": "52b49bec-69d5-49de-8f1c-5691df8bb76d",
     "showTitle": false,
     "tableResultSettingsMap": {},
     "title": ""
    }
   },
   "outputs": [],
   "source": [
    "@dlt.table\n",
    "\n",
    "@dlt.expect_all_or_drop(masterdata_rules)\n",
    "def gold_netflixtitles():\n",
    "\n",
    "    df = spark.readStream.table(\"LIVE.gold_trns_netflixtitles\")\n",
    "\n",
    "    return df"
   ]
  }
 ],
 "metadata": {
  "application/vnd.databricks.v1+notebook": {
   "computePreferences": null,
   "dashboards": [],
   "environmentMetadata": {
    "base_environment": "",
    "environment_version": "2"
   },
   "inputWidgetPreferences": null,
   "language": "python",
   "notebookMetadata": {
    "pythonIndentUnit": 4
   },
   "notebookName": "7_DLT_Notebook",
   "widgets": {}
  },
  "language_info": {
   "name": "python"
  }
 },
 "nbformat": 4,
 "nbformat_minor": 0
}
